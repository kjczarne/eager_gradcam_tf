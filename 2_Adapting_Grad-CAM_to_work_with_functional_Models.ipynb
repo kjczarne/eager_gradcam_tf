{
 "cells": [
  {
   "cell_type": "markdown",
   "metadata": {},
   "source": [
    "# Grad-CAM for Models with mixed layers"
   ]
  },
  {
   "cell_type": "code",
   "execution_count": 90,
   "metadata": {},
   "outputs": [],
   "source": [
    "import tensorflow as tf\n",
    "import numpy as np\n",
    "from PIL import Image\n",
    "import matplotlib.pyplot as plt\n",
    "import datetime\n",
    "import cv2"
   ]
  },
  {
   "cell_type": "code",
   "execution_count": 91,
   "metadata": {},
   "outputs": [
    {
     "name": "stdout",
     "output_type": "stream",
     "text": [
      "The tensorboard.notebook extension is already loaded. To reload it, use:\n",
      "  %reload_ext tensorboard.notebook\n"
     ]
    }
   ],
   "source": [
    "%load_ext tensorboard.notebook"
   ]
  },
  {
   "cell_type": "markdown",
   "metadata": {},
   "source": [
    "## Making the images"
   ]
  },
  {
   "cell_type": "code",
   "execution_count": 92,
   "metadata": {},
   "outputs": [],
   "source": [
    "class_zero_template = np.zeros((32,32))"
   ]
  },
  {
   "cell_type": "code",
   "execution_count": 93,
   "metadata": {},
   "outputs": [],
   "source": [
    "class_zero_template = np.array([[0., 0., 0., 0., 0., 0., 0., 0., 0., 0., 0., 0., 0., 0., 0., 0.],\n",
    "                                [0., 0., 0., 0., 0., 0., 0., 0., 0., 0., 0., 0., 0., 0., 0., 0.],\n",
    "                                [0., 0., 0., 0., 0., 0., 0., 0., 0., 0., 0., 0., 0., 0., 0., 0.],\n",
    "                                [0., 0., 0., 0., 0., 0., 0., 0., 0., 0., 0., 0., 0., 0., 0., 0.],\n",
    "                                [0., 0., 0., 0., 0., 1., 0., 0., 0., 0., 0., 0., 0., 0., 0., 0.],\n",
    "                                [0., 0., 0., 0., 0., 1., 1., 0., 0., 0., 0., 0., 0., 0., 0., 0.],\n",
    "                                [0., 0., 0., 0., 0., 1., 1., 1., 0., 0., 0., 0., 0., 0., 0., 0.],\n",
    "                                [0., 0., 0., 0., 0., 1., 1., 1., 1., 0., 0., 0., 0., 0., 0., 0.],\n",
    "                                [0., 0., 0., 0., 0., 1., 1., 1., 1., 1., 0., 0., 0., 0., 0., 0.],\n",
    "                                [0., 0., 0., 0., 0., 1., 1., 1., 1., 1., 1., 0., 0., 0., 0., 0.],\n",
    "                                [0., 0., 0., 0., 0., 0., 0., 0., 0., 0., 0., 0., 0., 0., 0., 0.],\n",
    "                                [0., 0., 0., 0., 0., 0., 0., 0., 0., 0., 0., 0., 0., 0., 0., 0.],\n",
    "                                [0., 0., 0., 0., 0., 0., 0., 0., 0., 0., 0., 0., 0., 0., 0., 0.],\n",
    "                                [0., 0., 0., 0., 0., 0., 0., 0., 0., 0., 0., 0., 0., 0., 0., 0.],\n",
    "                                [0., 0., 0., 0., 0., 0., 0., 0., 0., 0., 0., 0., 0., 0., 0., 0.],\n",
    "                                [0., 0., 0., 0., 0., 0., 0., 0., 0., 0., 0., 0., 0., 0., 0., 0.]])"
   ]
  },
  {
   "cell_type": "code",
   "execution_count": 94,
   "metadata": {},
   "outputs": [
    {
     "data": {
      "text/plain": [
       "<matplotlib.image.AxesImage at 0x13a66b9b0>"
      ]
     },
     "execution_count": 94,
     "metadata": {},
     "output_type": "execute_result"
    },
    {
     "data": {
      "image/png": "[encoded data removed]",
      "text/plain": [
       "<Figure size 432x288 with 1 Axes>"
      ]
     },
     "metadata": {
      "needs_background": "light"
     },
     "output_type": "display_data"
    }
   ],
   "source": [
    "plt.imshow(class_zero_template)"
   ]
  },
  {
   "cell_type": "code",
   "execution_count": 95,
   "metadata": {},
   "outputs": [],
   "source": [
    "class_one_template = np.array([[0., 0., 0., 0., 0., 0., 0., 0., 0., 0., 0., 0., 0., 0., 0., 0.],\n",
    "                                [0., 0., 0., 0., 0., 0., 0., 0., 0., 0., 0., 0., 0., 0., 0., 0.],\n",
    "                                [0., 0., 0., 0., 0., 0., 0., 0., 0., 0., 0., 0., 0., 0., 0., 0.],\n",
    "                                [0., 0., 0., 0., 0., 0., 0., 0., 0., 0., 0., 0., 0., 0., 0., 0.],\n",
    "                                [0., 0., 0., 0., 0., 0., 0., 0., 0., 0., 0., 0., 0., 0., 0., 0.],\n",
    "                                [0., 0., 0., 0., 0., 0., 1., 1., 1., 1., 1., 0., 0., 0., 0., 0.],\n",
    "                                [0., 0., 0., 0., 0., 0., 1., 1., 1., 1., 1., 0., 0., 0., 0., 0.],\n",
    "                                [0., 0., 0., 0., 0., 0., 1., 1., 0., 1., 1., 0., 0., 0., 0., 0.],\n",
    "                                [0., 0., 0., 0., 0., 0., 1., 1., 1., 1., 1., 0., 0., 0., 0., 0.],\n",
    "                                [0., 0., 0., 0., 0., 0., 1., 1., 1., 1., 1., 0., 0., 0., 0., 0.],\n",
    "                                [0., 0., 0., 0., 0., 0., 0., 0., 0., 0., 0., 0., 0., 0., 0., 0.],\n",
    "                                [0., 0., 0., 0., 0., 0., 0., 0., 0., 0., 0., 0., 0., 0., 0., 0.],\n",
    "                                [0., 0., 0., 0., 0., 0., 0., 0., 0., 0., 0., 0., 0., 0., 0., 0.],\n",
    "                                [0., 0., 0., 0., 0., 0., 0., 0., 0., 0., 0., 0., 0., 0., 0., 0.],\n",
    "                                [0., 0., 0., 0., 0., 0., 0., 0., 0., 0., 0., 0., 0., 0., 0., 0.],\n",
    "                                [0., 0., 0., 0., 0., 0., 0., 0., 0., 0., 0., 0., 0., 0., 0., 0.]])"
   ]
  },
  {
   "cell_type": "code",
   "execution_count": 96,
   "metadata": {},
   "outputs": [
    {
     "data": {
      "text/plain": [
       "<matplotlib.image.AxesImage at 0x13b32dd68>"
      ]
     },
     "execution_count": 96,
     "metadata": {},
     "output_type": "execute_result"
    },
    {
     "data": {
      "image/png": "[encoded data removed]",
      "text/plain": [
       "<Figure size 432x288 with 1 Axes>"
      ]
     },
     "metadata": {
      "needs_background": "light"
     },
     "output_type": "display_data"
    }
   ],
   "source": [
    "plt.imshow(class_one_template)"
   ]
  },
  {
   "cell_type": "code",
   "execution_count": 97,
   "metadata": {},
   "outputs": [
    {
     "data": {
      "text/plain": [
       "(16, 16)"
      ]
     },
     "execution_count": 97,
     "metadata": {},
     "output_type": "execute_result"
    }
   ],
   "source": [
    "class_one_template.shape"
   ]
  },
  {
   "cell_type": "markdown",
   "metadata": {},
   "source": [
    "#### Now we introduce some 'random noise', essentially switching a fixed number of pixels within our 16x16 map to 0"
   ]
  },
  {
   "cell_type": "code",
   "execution_count": 98,
   "metadata": {},
   "outputs": [
    {
     "data": {
      "text/plain": [
       "<matplotlib.image.AxesImage at 0x13b7b0320>"
      ]
     },
     "execution_count": 98,
     "metadata": {},
     "output_type": "execute_result"
    },
    {
     "data": {
      "image/png": "[encoded data removed]",
      "text/plain": [
       "<Figure size 432x288 with 1 Axes>"
      ]
     },
     "metadata": {
      "needs_background": "light"
     },
     "output_type": "display_data"
    }
   ],
   "source": [
    "def generate_noise(input_img, num_of_pixels):\n",
    "    idx1_arr = np.random.randint((input_img.shape[0]-1), size=num_of_pixels)\n",
    "    idx2_arr = np.random.randint((input_img.shape[1]-1), size=num_of_pixels)\n",
    "    out_img = np.copy(input_img)\n",
    "    for i, j in zip(idx1_arr, idx2_arr):\n",
    "        out_img[i][j] = 1\n",
    "    return out_img\n",
    "\n",
    "def image_generator(input_img, pixel_noise):\n",
    "    while True:\n",
    "        yield generate_noise(input_img, pixel_noise)\n",
    "\n",
    "plt.imshow(generate_noise(class_one_template, 3))"
   ]
  },
  {
   "cell_type": "markdown",
   "metadata": {},
   "source": [
    "# Generating data for the training and validation"
   ]
  },
  {
   "cell_type": "code",
   "execution_count": 99,
   "metadata": {},
   "outputs": [],
   "source": [
    "class_zero_generator = image_generator(class_zero_template, 3)\n",
    "class_one_generator = image_generator(class_one_template, 3)\n",
    "\n",
    "# initialize those as None to make conditionals work in the loops\n",
    "class_zero_train = None\n",
    "class_zero_test = None\n",
    "class_one_train = None\n",
    "class_one_test = None\n",
    "\n",
    "# roughly 80/20 split\n",
    "train_size = 64\n",
    "test_size = 13\n",
    "for i in range(train_size):\n",
    "    if class_zero_train is not None:\n",
    "        class_zero_train = np.append(class_zero_train, np.expand_dims(next(class_zero_generator), axis=0), axis=0)\n",
    "    else:\n",
    "        class_zero_train = np.expand_dims(next(class_zero_generator), axis=0)\n",
    "    if class_one_train is not None:\n",
    "        class_one_train = np.append(class_one_train, np.expand_dims(next(class_one_generator), axis=0), axis=0)\n",
    "    else: \n",
    "        class_one_train = np.expand_dims(next(class_one_generator), axis=0)\n",
    "\n",
    "class_zero_labels = np.zeros(train_size)\n",
    "class_one_labels = np.ones(train_size)\n",
    "\n",
    "x_train = np.append(class_zero_train, class_one_train, axis=0)\n",
    "y_train = np.append(class_zero_labels, class_one_labels)\n",
    "    \n",
    "for i in range(test_size):\n",
    "    if class_zero_test is not None:\n",
    "        class_zero_test = np.append(class_zero_test, np.expand_dims(next(class_zero_generator), axis=0), axis=0)\n",
    "    else:\n",
    "        class_zero_test = np.expand_dims(next(class_zero_generator), axis=0)\n",
    "    if class_one_test is not None:\n",
    "        class_one_test = np.append(class_one_test, np.expand_dims(next(class_one_generator), axis=0), axis=0)\n",
    "    else:\n",
    "        class_one_test = np.expand_dims(next(class_one_generator), axis=0)\n",
    "    \n",
    "class_zero_labels = np.zeros(test_size)\n",
    "class_one_labels = np.ones(test_size)\n",
    "\n",
    "x_test = np.append(class_zero_test, class_one_test, axis=0)\n",
    "y_test = np.append(class_zero_labels, class_one_labels)"
   ]
  },
  {
   "cell_type": "code",
   "execution_count": 100,
   "metadata": {},
   "outputs": [
    {
     "data": {
      "text/plain": [
       "(128, 16, 16)"
      ]
     },
     "execution_count": 100,
     "metadata": {},
     "output_type": "execute_result"
    }
   ],
   "source": [
    "x_train.shape"
   ]
  },
  {
   "cell_type": "code",
   "execution_count": 101,
   "metadata": {},
   "outputs": [
    {
     "data": {
      "text/plain": [
       "(128,)"
      ]
     },
     "execution_count": 101,
     "metadata": {},
     "output_type": "execute_result"
    }
   ],
   "source": [
    "y_train.shape"
   ]
  },
  {
   "cell_type": "code",
   "execution_count": 102,
   "metadata": {},
   "outputs": [
    {
     "data": {
      "text/plain": [
       "(26, 16, 16)"
      ]
     },
     "execution_count": 102,
     "metadata": {},
     "output_type": "execute_result"
    }
   ],
   "source": [
    "x_test.shape"
   ]
  },
  {
   "cell_type": "code",
   "execution_count": 103,
   "metadata": {},
   "outputs": [
    {
     "data": {
      "text/plain": [
       "(26,)"
      ]
     },
     "execution_count": 103,
     "metadata": {},
     "output_type": "execute_result"
    }
   ],
   "source": [
    "y_test.shape"
   ]
  },
  {
   "cell_type": "code",
   "execution_count": 104,
   "metadata": {},
   "outputs": [],
   "source": [
    "def unison_shuffled_copies(a, b):\n",
    "    assert len(a) == len(b)\n",
    "    p = np.random.permutation(len(a))\n",
    "    return a[p], b[p]\n",
    "\n",
    "# taken from: https://stackoverflow.com/questions/4601373/better-way-to-shuffle-two-numpy-arrays-in-unison  mrtw's answer"
   ]
  },
  {
   "cell_type": "code",
   "execution_count": 105,
   "metadata": {},
   "outputs": [],
   "source": [
    "x_train, y_train = unison_shuffled_copies(x_train, y_train)\n",
    "x_test, y_test = unison_shuffled_copies(x_test, y_test)"
   ]
  },
  {
   "cell_type": "markdown",
   "metadata": {},
   "source": [
    "#### Let's try to visualize a few examples from the training set"
   ]
  },
  {
   "cell_type": "code",
   "execution_count": 106,
   "metadata": {},
   "outputs": [
    {
     "data": {
      "text/plain": [
       "(128, 16, 16)"
      ]
     },
     "execution_count": 106,
     "metadata": {},
     "output_type": "execute_result"
    }
   ],
   "source": [
    "x_train.shape"
   ]
  },
  {
   "cell_type": "code",
   "execution_count": 107,
   "metadata": {},
   "outputs": [],
   "source": [
    "def show_something(dataset, labels, index):\n",
    "    plt.imshow(x_train[index,:,:])\n",
    "    print(\"label for this image is: {}\".format(labels[index]))"
   ]
  },
  {
   "cell_type": "code",
   "execution_count": 108,
   "metadata": {},
   "outputs": [
    {
     "name": "stdout",
     "output_type": "stream",
     "text": [
      "label for this image is: 0.0\n"
     ]
    },
    {
     "data": {
      "image/png": "[encoded data removed]",
      "text/plain": [
       "<Figure size 432x288 with 1 Axes>"
      ]
     },
     "metadata": {
      "needs_background": "light"
     },
     "output_type": "display_data"
    }
   ],
   "source": [
    "show_something(x_train, y_train, np.random.randint(len(y_train)-1))  # this shows a random image from the training dataset"
   ]
  },
  {
   "cell_type": "markdown",
   "metadata": {},
   "source": [
    "#### Now we expand dimensions to stay consistent with NWHC, so we need to expand axis -1 (last one)"
   ]
  },
  {
   "cell_type": "code",
   "execution_count": 109,
   "metadata": {},
   "outputs": [
    {
     "data": {
      "text/plain": [
       "(128, 16, 16, 1)"
      ]
     },
     "execution_count": 109,
     "metadata": {},
     "output_type": "execute_result"
    }
   ],
   "source": [
    "np.expand_dims(x_train, axis=-1).shape"
   ]
  },
  {
   "cell_type": "code",
   "execution_count": 110,
   "metadata": {},
   "outputs": [],
   "source": [
    "x_train = np.expand_dims(x_train, axis=-1)\n",
    "y_train = np.expand_dims(y_train, axis=-1)\n",
    "\n",
    "x_test = np.expand_dims(x_test, axis=-1)\n",
    "y_test = np.expand_dims(y_test, axis=-1)"
   ]
  },
  {
   "cell_type": "markdown",
   "metadata": {},
   "source": [
    "# Creating the model"
   ]
  },
  {
   "cell_type": "markdown",
   "metadata": {},
   "source": [
    "Let's create a model in which we will redirect output to two different conv layers and concatenate output right before feeding it into dense layers."
   ]
  },
  {
   "cell_type": "code",
   "execution_count": 111,
   "metadata": {},
   "outputs": [],
   "source": [
    "x = tf.keras.layers.Input(shape=(16,16,1))\n",
    "x1 = tf.keras.layers.Conv2D(64, (3, 3), input_shape=(16, 16, 1), activation='relu')(x)\n",
    "x1 = tf.keras.layers.MaxPool2D(pool_size=(2,2), padding='same')(x1)\n",
    "x2 = tf.keras.layers.Conv2D(64, (3, 3), activation='relu')(x)\n",
    "x2 = tf.keras.layers.MaxPool2D(pool_size=(2,2), padding='same')(x2)\n",
    "x1 = tf.keras.layers.Flatten()(x1)\n",
    "x2 = tf.keras.layers.Flatten()(x2)\n",
    "y = tf.keras.layers.Concatenate()([x1, x2])\n",
    "y = tf.keras.layers.Dense(16, activation='relu')(y)\n",
    "y = tf.keras.layers.Dense(1, activation='sigmoid')(y)\n",
    "model = tf.keras.models.Model(inputs=x, outputs=y)"
   ]
  },
  {
   "cell_type": "code",
   "execution_count": 112,
   "metadata": {},
   "outputs": [
    {
     "name": "stdout",
     "output_type": "stream",
     "text": [
      "Model: \"model_4\"\n",
      "__________________________________________________________________________________________________\n",
      "Layer (type)                    Output Shape         Param #     Connected to                     \n",
      "==================================================================================================\n",
      "input_8 (InputLayer)            [(None, 16, 16, 1)]  0                                            \n",
      "__________________________________________________________________________________________________\n",
      "conv2d_13 (Conv2D)              (None, 14, 14, 64)   640         input_8[0][0]                    \n",
      "__________________________________________________________________________________________________\n",
      "conv2d_14 (Conv2D)              (None, 14, 14, 64)   640         input_8[0][0]                    \n",
      "__________________________________________________________________________________________________\n",
      "max_pooling2d_12 (MaxPooling2D) (None, 7, 7, 64)     0           conv2d_13[0][0]                  \n",
      "__________________________________________________________________________________________________\n",
      "max_pooling2d_13 (MaxPooling2D) (None, 7, 7, 64)     0           conv2d_14[0][0]                  \n",
      "__________________________________________________________________________________________________\n",
      "flatten_12 (Flatten)            (None, 3136)         0           max_pooling2d_12[0][0]           \n",
      "__________________________________________________________________________________________________\n",
      "flatten_13 (Flatten)            (None, 3136)         0           max_pooling2d_13[0][0]           \n",
      "__________________________________________________________________________________________________\n",
      "concatenate_2 (Concatenate)     (None, 6272)         0           flatten_12[0][0]                 \n",
      "                                                                 flatten_13[0][0]                 \n",
      "__________________________________________________________________________________________________\n",
      "dense_5 (Dense)                 (None, 16)           100368      concatenate_2[0][0]              \n",
      "__________________________________________________________________________________________________\n",
      "dense_6 (Dense)                 (None, 1)            17          dense_5[0][0]                    \n",
      "==================================================================================================\n",
      "Total params: 101,665\n",
      "Trainable params: 101,665\n",
      "Non-trainable params: 0\n",
      "__________________________________________________________________________________________________\n"
     ]
    }
   ],
   "source": [
    "model.summary()"
   ]
  },
  {
   "cell_type": "code",
   "execution_count": 113,
   "metadata": {},
   "outputs": [
    {
     "data": {
      "text/plain": [
       "'concatenate_2'"
      ]
     },
     "execution_count": 113,
     "metadata": {},
     "output_type": "execute_result"
    }
   ],
   "source": [
    "model.layers[7].name"
   ]
  },
  {
   "cell_type": "code",
   "execution_count": 114,
   "metadata": {},
   "outputs": [
    {
     "name": "stdout",
     "output_type": "stream",
     "text": [
      "[<tensorflow.python.keras.engine.base_layer.Node object at 0x11189e908>, <tensorflow.python.keras.engine.base_layer.Node object at 0x13b2d8c88>]\n",
      "0\n",
      "[<tensorflow.python.keras.engine.base_layer.Node object at 0x13b8a7da0>]\n",
      "1\n",
      "[<tensorflow.python.keras.engine.base_layer.Node object at 0x13b6e0630>]\n",
      "2\n",
      "[<tensorflow.python.keras.engine.base_layer.Node object at 0x13b96e048>]\n",
      "3\n",
      "[<tensorflow.python.keras.engine.base_layer.Node object at 0x13b6f66d8>]\n",
      "4\n",
      "[<tensorflow.python.keras.engine.base_layer.Node object at 0x13b6f67b8>]\n",
      "5\n",
      "[<tensorflow.python.keras.engine.base_layer.Node object at 0x13b6f67b8>]\n",
      "6\n",
      "[<tensorflow.python.keras.engine.base_layer.Node object at 0x13b8a7470>]\n",
      "7\n",
      "[<tensorflow.python.keras.engine.base_layer.Node object at 0x13b5c8710>]\n",
      "8\n",
      "[]\n",
      "9\n"
     ]
    }
   ],
   "source": [
    "for i in range(len(model.layers)):\n",
    "    print(model.get_layer(model.layers[i].name).outbound_nodes)\n",
    "    print(i)"
   ]
  },
  {
   "cell_type": "code",
   "execution_count": 115,
   "metadata": {},
   "outputs": [
    {
     "data": {
      "text/plain": [
       "{'outbound_layer': 'input_8',\n",
       " 'inbound_layers': [],\n",
       " 'node_indices': [],\n",
       " 'tensor_indices': []}"
      ]
     },
     "execution_count": 115,
     "metadata": {},
     "output_type": "execute_result"
    }
   ],
   "source": [
    "model.get_layer(model.layers[0].name).inbound_nodes[0].get_config()"
   ]
  },
  {
   "cell_type": "code",
   "execution_count": 116,
   "metadata": {},
   "outputs": [],
   "source": [
    "model.compile(optimizer=tf.keras.optimizers.SGD(learning_rate=0.001, momentum=0.1), loss='binary_crossentropy', metrics=['accuracy'])"
   ]
  },
  {
   "cell_type": "code",
   "execution_count": 117,
   "metadata": {},
   "outputs": [
    {
     "name": "stdout",
     "output_type": "stream",
     "text": [
      "Train on 128 samples, validate on 26 samples\n",
      "Epoch 1/20\n",
      "128/128 [==============================] - 0s 4ms/sample - loss: 0.6858 - accuracy: 0.5078 - val_loss: 0.6874 - val_accuracy: 0.5000\n",
      "Epoch 2/20\n",
      "128/128 [==============================] - 0s 375us/sample - loss: 0.6830 - accuracy: 0.5078 - val_loss: 0.6845 - val_accuracy: 0.5000\n",
      "Epoch 3/20\n",
      "128/128 [==============================] - 0s 541us/sample - loss: 0.6800 - accuracy: 0.5156 - val_loss: 0.6814 - val_accuracy: 0.5000\n",
      "Epoch 4/20\n",
      "128/128 [==============================] - 0s 388us/sample - loss: 0.6767 - accuracy: 0.5469 - val_loss: 0.6782 - val_accuracy: 0.5000\n",
      "Epoch 5/20\n",
      "128/128 [==============================] - 0s 369us/sample - loss: 0.6735 - accuracy: 0.5625 - val_loss: 0.6751 - val_accuracy: 0.5000\n",
      "Epoch 6/20\n",
      "128/128 [==============================] - 0s 454us/sample - loss: 0.6704 - accuracy: 0.6016 - val_loss: 0.6722 - val_accuracy: 0.5385\n",
      "Epoch 7/20\n",
      "128/128 [==============================] - 0s 420us/sample - loss: 0.6675 - accuracy: 0.6328 - val_loss: 0.6695 - val_accuracy: 0.5769\n",
      "Epoch 8/20\n",
      "128/128 [==============================] - 0s 446us/sample - loss: 0.6649 - accuracy: 0.6641 - val_loss: 0.6669 - val_accuracy: 0.6154\n",
      "Epoch 9/20\n",
      "128/128 [==============================] - 0s 421us/sample - loss: 0.6623 - accuracy: 0.6953 - val_loss: 0.6644 - val_accuracy: 0.7692\n",
      "Epoch 10/20\n",
      "128/128 [==============================] - 0s 443us/sample - loss: 0.6599 - accuracy: 0.7969 - val_loss: 0.6620 - val_accuracy: 0.8077\n",
      "Epoch 11/20\n",
      "128/128 [==============================] - 0s 621us/sample - loss: 0.6576 - accuracy: 0.8281 - val_loss: 0.6597 - val_accuracy: 0.9615\n",
      "Epoch 12/20\n",
      "128/128 [==============================] - 0s 770us/sample - loss: 0.6554 - accuracy: 0.8750 - val_loss: 0.6575 - val_accuracy: 0.9615\n",
      "Epoch 13/20\n",
      "128/128 [==============================] - 0s 705us/sample - loss: 0.6533 - accuracy: 0.9297 - val_loss: 0.6554 - val_accuracy: 0.9615\n",
      "Epoch 14/20\n",
      "128/128 [==============================] - 0s 607us/sample - loss: 0.6513 - accuracy: 0.9453 - val_loss: 0.6533 - val_accuracy: 0.9615\n",
      "Epoch 15/20\n",
      "128/128 [==============================] - 0s 765us/sample - loss: 0.6492 - accuracy: 0.9609 - val_loss: 0.6512 - val_accuracy: 0.9615\n",
      "Epoch 16/20\n",
      "128/128 [==============================] - 0s 604us/sample - loss: 0.6473 - accuracy: 0.9688 - val_loss: 0.6492 - val_accuracy: 0.9615\n",
      "Epoch 17/20\n",
      "128/128 [==============================] - 0s 537us/sample - loss: 0.6452 - accuracy: 0.9766 - val_loss: 0.6472 - val_accuracy: 1.0000\n",
      "Epoch 18/20\n",
      "128/128 [==============================] - 0s 395us/sample - loss: 0.6433 - accuracy: 0.9922 - val_loss: 0.6452 - val_accuracy: 1.0000\n",
      "Epoch 19/20\n",
      "128/128 [==============================] - 0s 715us/sample - loss: 0.6413 - accuracy: 0.9922 - val_loss: 0.6431 - val_accuracy: 1.0000\n",
      "Epoch 20/20\n",
      "128/128 [==============================] - 0s 757us/sample - loss: 0.6392 - accuracy: 0.9922 - val_loss: 0.6411 - val_accuracy: 1.0000\n"
     ]
    },
    {
     "data": {
      "text/plain": [
       "<tensorflow.python.keras.callbacks.History at 0x13b985978>"
      ]
     },
     "execution_count": 117,
     "metadata": {},
     "output_type": "execute_result"
    }
   ],
   "source": [
    "model.fit(x=x_train,\n",
    "          y=y_train, \n",
    "          epochs=20, \n",
    "          validation_data=(x_test, y_test), \n",
    "          callbacks=[tensorboard_callback])"
   ]
  },
  {
   "cell_type": "markdown",
   "metadata": {},
   "source": [
    "# Let's start tracing back the gradients"
   ]
  },
  {
   "cell_type": "markdown",
   "metadata": {},
   "source": [
    "### First we need a sample image to make predictions on"
   ]
  },
  {
   "cell_type": "code",
   "execution_count": 232,
   "metadata": {},
   "outputs": [],
   "source": [
    "im = next(image_generator(class_zero_template, 3))"
   ]
  },
  {
   "cell_type": "code",
   "execution_count": 233,
   "metadata": {},
   "outputs": [
    {
     "data": {
      "text/plain": [
       "<matplotlib.image.AxesImage at 0x13c6e96d8>"
      ]
     },
     "execution_count": 233,
     "metadata": {},
     "output_type": "execute_result"
    },
    {
     "data": {
      "image/png": "[encoded data removed]",
      "text/plain": [
       "<Figure size 432x288 with 1 Axes>"
      ]
     },
     "metadata": {
      "needs_background": "light"
     },
     "output_type": "display_data"
    }
   ],
   "source": [
    "plt.imshow(im)"
   ]
  },
  {
   "cell_type": "code",
   "execution_count": 234,
   "metadata": {},
   "outputs": [
    {
     "data": {
      "text/plain": [
       "(1, 16, 16, 1)"
      ]
     },
     "execution_count": 234,
     "metadata": {},
     "output_type": "execute_result"
    }
   ],
   "source": [
    "im.reshape(1, *im.shape, 1).shape"
   ]
  },
  {
   "cell_type": "code",
   "execution_count": 235,
   "metadata": {},
   "outputs": [
    {
     "data": {
      "text/plain": [
       "array([[0.45783487]], dtype=float32)"
      ]
     },
     "execution_count": 235,
     "metadata": {},
     "output_type": "execute_result"
    }
   ],
   "source": [
    "model.predict(im.reshape(1, *im.shape, 1))  # prediction value"
   ]
  },
  {
   "cell_type": "code",
   "execution_count": 236,
   "metadata": {},
   "outputs": [
    {
     "data": {
      "text/plain": [
       "<tf.Tensor: id=9113, shape=(1, 1), dtype=float32, numpy=array([[0.45783487]], dtype=float32)>"
      ]
     },
     "execution_count": 236,
     "metadata": {},
     "output_type": "execute_result"
    }
   ],
   "source": [
    "model(tf.cast(im.reshape(1, *im.shape, 1), tf.float32))  # also a prediction value but using `call` instead of `predict`\n",
    "# this returns a tf.Tensor"
   ]
  },
  {
   "cell_type": "markdown",
   "metadata": {},
   "source": [
    "#### We can use GradientTape to trace gradient values\n",
    "Let's calculate the MSE for this particular predition"
   ]
  },
  {
   "cell_type": "code",
   "execution_count": 237,
   "metadata": {},
   "outputs": [],
   "source": [
    "with tf.GradientTape() as tape:\n",
    "    error = model(tf.cast(im.reshape(1, *im.shape, 1), tf.float32)) - 0 # NOT model.predict(x) - y\n",
    "    loss_value = tf.reduce_mean(tf.square(error))\n",
    "gradients = tape.gradient(loss_value, model.variables)"
   ]
  },
  {
   "cell_type": "markdown",
   "metadata": {},
   "source": [
    "`model.variables` is where kernels and biases live"
   ]
  },
  {
   "cell_type": "code",
   "execution_count": 238,
   "metadata": {},
   "outputs": [
    {
     "name": "stdout",
     "output_type": "stream",
     "text": [
      "['conv2d_13/kernel:0', 'conv2d_13/bias:0', 'conv2d_14/kernel:0', 'conv2d_14/bias:0', 'dense_5/kernel:0', 'dense_5/bias:0', 'dense_6/kernel:0', 'dense_6/bias:0']\n"
     ]
    }
   ],
   "source": [
    "print([i.name for i in model.variables])"
   ]
  },
  {
   "cell_type": "markdown",
   "metadata": {},
   "source": [
    "We can create thus a list of all kernels and biases associated with any **convolutional layers** we have in our model and put it in a list (`A_k`)."
   ]
  },
  {
   "cell_type": "markdown",
   "metadata": {},
   "source": [
    "Two outbound nodes of the input layer point to two different convolutional layers,"
   ]
  },
  {
   "cell_type": "code",
   "execution_count": 239,
   "metadata": {},
   "outputs": [
    {
     "data": {
      "text/plain": [
       "{'outbound_layer': 'conv2d_13',\n",
       " 'inbound_layers': 'input_8',\n",
       " 'node_indices': 0,\n",
       " 'tensor_indices': 0}"
      ]
     },
     "execution_count": 239,
     "metadata": {},
     "output_type": "execute_result"
    }
   ],
   "source": [
    "model.get_layer(model.layers[0].name).outbound_nodes[0].get_config()"
   ]
  },
  {
   "cell_type": "code",
   "execution_count": 240,
   "metadata": {},
   "outputs": [
    {
     "data": {
      "text/plain": [
       "{'outbound_layer': 'conv2d_14',\n",
       " 'inbound_layers': 'input_8',\n",
       " 'node_indices': 0,\n",
       " 'tensor_indices': 0}"
      ]
     },
     "execution_count": 240,
     "metadata": {},
     "output_type": "execute_result"
    }
   ],
   "source": [
    "model.get_layer(model.layers[0].name).outbound_nodes[1].get_config()"
   ]
  },
  {
   "cell_type": "code",
   "execution_count": 241,
   "metadata": {},
   "outputs": [],
   "source": [
    "class tuple_dict(dict):\n",
    "    def __init__(self, *args):\n",
    "        dict.__init__(self, args)\n",
    "\n",
    "    def __getitem__(self, i):\n",
    "        if type(i) == tuple:\n",
    "            lst = []\n",
    "            for n in i:\n",
    "                lst.append(dict.__getitem__(self, n))\n",
    "            return lst\n",
    "        elif type(i) == str:\n",
    "            return dict.__getitem__(self, i)"
   ]
  },
  {
   "cell_type": "code",
   "execution_count": 242,
   "metadata": {},
   "outputs": [],
   "source": [
    "d_test = tuple_dict()\n",
    "d_test['a']=1\n",
    "d_test['b']=2\n",
    "d_test['c']=3"
   ]
  },
  {
   "cell_type": "code",
   "execution_count": 243,
   "metadata": {},
   "outputs": [
    {
     "data": {
      "text/plain": [
       "[1, 2]"
      ]
     },
     "execution_count": 243,
     "metadata": {},
     "output_type": "execute_result"
    }
   ],
   "source": [
    "d_test[('a', 'b')]"
   ]
  },
  {
   "cell_type": "code",
   "execution_count": 244,
   "metadata": {},
   "outputs": [],
   "source": [
    "def get_outputs_at_each_layer(model, input_image, layer_type):\n",
    "    \"\"\"\n",
    "    make it robust to weird connections between layers\n",
    "    \"\"\"\n",
    "    with tf.GradientTape() as tape:\n",
    "        outputs = tuple_dict()\n",
    "        current_output = model.get_layer(model.layers[0].name)(input_image)\n",
    "        outputs[model.layers[0].name] = current_output\n",
    "        restricted_outputs = []\n",
    "        for i in model.layers[:]:\n",
    "    #         out = model.get_layer(i.name)(out)\n",
    "    # input points to two outbound nodes: two different conv layers\n",
    "    # inbound_node in config gets the input node\n",
    "    # outbound_node in config points to the operation\n",
    "    # so in our case inbound: input layer, outbound: conv layer\n",
    "    # and the other node is: input layer, second conv layer\n",
    "    # try using node objects as dict keys where you record outputs\n",
    "    # change outputs list into a dict\n",
    "            outbound_nodes = model.get_layer(i.name).outbound_nodes\n",
    "            inbound_nodes = model.get_layer(i.name).inbound_nodes\n",
    "            for n in outbound_nodes:\n",
    "                config = n.get_config()\n",
    "#                 outputs[config['outbound_layer']] = model.get_layer(config['outbound_layer'])(model.get_layer(config['inbound_layers']))\n",
    "                #(outputs[config['inbound_layers']]))\n",
    "#                 print(config['inbound_layers'])\n",
    "#                 print(config['outbound_layer'])\n",
    "#                 if type(config['outbound_layer']) == list:\n",
    "#                     for m in config['outbound_layer']:\n",
    "#                         outputs[m] = model.get_layer(m)(outputs[config['inbound_layers']])\n",
    "#                 elif type(config['inbound_layers']) == list:\n",
    "#                     for m in config['inbound_layers']:\n",
    "#                         outputs[config['outbound_layer']] = model.get_layer(config['outbound_layer'])(outputs[m])\n",
    "#                 else:\n",
    "                \n",
    "#                 def inner(outputs, ibl, obl):\n",
    "#                     if type(ibl) == tuple:\n",
    "#                     if type(obl) == tuple:\n",
    "#                         for i in outputs[ibl]\n",
    "#                         outputs[obl] = model.get_layer(obl)(outputs[ibl])\n",
    "#                     else:\n",
    "#                         outputs[obl] = model.get_layer(obl)(outputs[ibl])\n",
    "#                     else:\n",
    "#                         outputs[obl] = model.get_layer(obl)(outputs[ibl])\n",
    "#                     return outputs\n",
    "                if type(config['outbound_layer']) == list:\n",
    "                    obl = tuple(config['outbound_layer'])\n",
    "                else:\n",
    "                    obl = config['outbound_layer']\n",
    "                if type(config['inbound_layers']) == list:\n",
    "                    ibl = tuple(config['inbound_layers'])\n",
    "                else:\n",
    "                    ibl = config['inbound_layers']\n",
    "                out = model.get_layer(obl)(outputs[ibl])\n",
    "                outputs[obl] = out\n",
    "                if layer_type in i.name:\n",
    "                    restricted_outputs.append(outputs[obl])\n",
    "    gradients = tape.gradient(out, restricted_outputs)\n",
    "    return restricted_outputs, gradients"
   ]
  },
  {
   "cell_type": "code",
   "execution_count": 245,
   "metadata": {},
   "outputs": [],
   "source": [
    "A_k, dy_dA_k = get_outputs_at_each_layer(model, tf.cast(im.reshape(1, *im.shape, 1), tf.float32), 'conv')"
   ]
  },
  {
   "cell_type": "code",
   "execution_count": 246,
   "metadata": {},
   "outputs": [
    {
     "name": "stdout",
     "output_type": "stream",
     "text": [
      "(1, 7, 7, 64)\n",
      "(1, 7, 7, 64)\n"
     ]
    }
   ],
   "source": [
    "for i in dy_dA_k:\n",
    "    print(i.shape)"
   ]
  },
  {
   "cell_type": "code",
   "execution_count": 247,
   "metadata": {},
   "outputs": [
    {
     "name": "stdout",
     "output_type": "stream",
     "text": [
      "(1, 7, 7, 64)\n",
      "(1, 7, 7, 64)\n"
     ]
    }
   ],
   "source": [
    "for i in A_k:\n",
    "    print(i.shape)"
   ]
  },
  {
   "cell_type": "code",
   "execution_count": 248,
   "metadata": {},
   "outputs": [],
   "source": [
    "# A_k = [i for i in model.variables if (('conv' in i.name) and ('kernel' in i.name))]\n",
    "# print([i.name for i in A_k])"
   ]
  },
  {
   "cell_type": "code",
   "execution_count": 249,
   "metadata": {},
   "outputs": [],
   "source": [
    "# with tf.GradientTape() as g:\n",
    "#     error = model(tf.cast(im.reshape(1, *im.shape, 1), tf.float32)) - 0 # NOT model.predict(x) - y\n",
    "#     loss_value = tf.reduce_mean(tf.square(error))\n",
    "# dy_dA_k = g.gradient(loss_value, A_k)"
   ]
  },
  {
   "cell_type": "code",
   "execution_count": 250,
   "metadata": {},
   "outputs": [],
   "source": [
    "# with tf.GradientTape() as tape:\n",
    "#     error = model(tf.cast(im.reshape(1, *im.shape, 1), tf.float32)) - 0 # NOT model.predict(x) - y\n",
    "#     loss_value = tf.reduce_mean(tf.square(error))\n",
    "# gradients = tape.gradient(loss_value, model.variables)"
   ]
  },
  {
   "cell_type": "code",
   "execution_count": 251,
   "metadata": {},
   "outputs": [],
   "source": [
    "# with tf.GradientTape() as g:\n",
    "#     error = model(tf.cast(im.reshape(1, *im.shape, 1), tf.float32)) # NOT model.predict(x) - y\n",
    "#     feature_maps = get_outputs_at_each_layer(model, tf.cast(im.reshape(1, *im.shape, 1), tf.float32), 'conv')\n",
    "    \n",
    "# dy_dA_k = g.gradient(loss_value, A_k)"
   ]
  },
  {
   "cell_type": "code",
   "execution_count": 252,
   "metadata": {},
   "outputs": [
    {
     "name": "stdout",
     "output_type": "stream",
     "text": [
      "(1, 7, 7, 64)\n"
     ]
    }
   ],
   "source": [
    "print(dy_dA_k[0].shape)"
   ]
  },
  {
   "cell_type": "markdown",
   "metadata": {},
   "source": [
    "# Grad-CAM"
   ]
  },
  {
   "cell_type": "markdown",
   "metadata": {},
   "source": [
    "Having the derivative of loss function with respect to each conv kernel, we can now try to implement Grad-CAM from scratch"
   ]
  },
  {
   "cell_type": "markdown",
   "metadata": {},
   "source": [
    "**The process is as follows**:\n",
    "\n",
    "1. Compute gradient of scores for class `c` with respect to collected feature maps of a convolutional layer.\n",
    "    \n",
    "    $\\large \\frac{(\\delta y^c)}{(\\delta A^k)}$\n",
    "    \n",
    "2. Run Global Average Pooling on that gradient to obtain importance weights of each feature map.\n",
    "\n",
    "    $\\large \\alpha^c_k = \\frac{1}{Z} \\Sigma_{i} \\Sigma_{j} \\frac{(\\delta y^c)}{(\\delta A^k)}$\n",
    "    \n",
    "3. Compute Grad-CAM $L^c$ function\n",
    "\n",
    "    $\\large L^c = ReLU(\\Sigma_{k} \\alpha^c_k A^k)$\n",
    "    \n",
    "    Here we use the ReLU to look only at pixels whose value actually contribute to the increase of $y^c$ scores\n",
    "    \n",
    "4. We upsample $L^c$ using bilinear interpolation method...\n",
    "\n",
    "5. ... and finally perform pixel-wise multiplication with the guided backpropagation results."
   ]
  },
  {
   "cell_type": "code",
   "execution_count": 253,
   "metadata": {},
   "outputs": [
    {
     "data": {
      "text/plain": [
       "(2, 1, 64)"
      ]
     },
     "execution_count": 253,
     "metadata": {},
     "output_type": "execute_result"
    }
   ],
   "source": [
    "gap = [tf.keras.layers.GlobalAveragePooling2D()(i) for i in dy_dA_k]\n",
    "np.array(gap).shape  # thus each alpha_k is an element of the 'gap' list"
   ]
  },
  {
   "cell_type": "code",
   "execution_count": 254,
   "metadata": {},
   "outputs": [
    {
     "name": "stdout",
     "output_type": "stream",
     "text": [
      "(1, 7, 7, 64)\n"
     ]
    }
   ],
   "source": [
    "print(dy_dA_k[0].shape)\n",
    "# print(dy_dA_k[1].shape)"
   ]
  },
  {
   "cell_type": "markdown",
   "metadata": {},
   "source": [
    "So we have two gradient tensors, first corresponding to the first layer which had `3x3` kernel size and the second corresponding to the `1x1` kernel. The last dimension is the actual number of feature maps within the tensor."
   ]
  },
  {
   "cell_type": "code",
   "execution_count": 255,
   "metadata": {},
   "outputs": [
    {
     "name": "stdout",
     "output_type": "stream",
     "text": [
      "(1, 7, 7, 64)\n"
     ]
    }
   ],
   "source": [
    "print(A_k[0].shape)\n",
    "# print(A_k[1].shape)"
   ]
  },
  {
   "cell_type": "markdown",
   "metadata": {},
   "source": [
    "Shapes of the A_k elements are the same."
   ]
  },
  {
   "cell_type": "code",
   "execution_count": 256,
   "metadata": {},
   "outputs": [
    {
     "data": {
      "text/plain": [
       "TensorShape([1, 7, 7, 64])"
      ]
     },
     "execution_count": 256,
     "metadata": {},
     "output_type": "execute_result"
    }
   ],
   "source": [
    "tf.math.multiply(dy_dA_k[0], A_k[0]).shape"
   ]
  },
  {
   "cell_type": "code",
   "execution_count": 257,
   "metadata": {},
   "outputs": [],
   "source": [
    "L_c_0 = tf.keras.layers.ReLU()(tf.math.reduce_sum(tf.math.multiply(dy_dA_k[0], A_k[0]), axis=3))"
   ]
  },
  {
   "cell_type": "code",
   "execution_count": 258,
   "metadata": {},
   "outputs": [
    {
     "data": {
      "text/plain": [
       "TensorShape([1, 7, 7])"
      ]
     },
     "execution_count": 258,
     "metadata": {},
     "output_type": "execute_result"
    }
   ],
   "source": [
    "L_c_0.shape"
   ]
  },
  {
   "cell_type": "code",
   "execution_count": 259,
   "metadata": {},
   "outputs": [
    {
     "data": {
      "text/plain": [
       "<matplotlib.image.AxesImage at 0x13c6b8828>"
      ]
     },
     "execution_count": 259,
     "metadata": {},
     "output_type": "execute_result"
    },
    {
     "data": {
      "image/png": "[encoded data removed]",
      "text/plain": [
       "<Figure size 432x288 with 1 Axes>"
      ]
     },
     "metadata": {
      "needs_background": "light"
     },
     "output_type": "display_data"
    }
   ],
   "source": [
    "plt.imshow(L_c_0[0, :, :], cmap='gray')"
   ]
  },
  {
   "cell_type": "code",
   "execution_count": 260,
   "metadata": {},
   "outputs": [],
   "source": [
    "# def unpack_maps(A_k, layer_idx):\n",
    "#     new_shape = list(A_k[layer_idx].shape)\n",
    "#     new_shape = [new_shape[-1]] + new_shape[:-1]\n",
    "#     yield tf.reshape(A_k[layer_idx], new_shape).numpy()"
   ]
  },
  {
   "cell_type": "code",
   "execution_count": 261,
   "metadata": {},
   "outputs": [],
   "source": [
    "# plt.imshow(test[1, 1, :, :], cmap='gray')"
   ]
  },
  {
   "cell_type": "markdown",
   "metadata": {},
   "source": [
    "#### We pick one of three saliency maps and scale it down to original image size"
   ]
  },
  {
   "cell_type": "code",
   "execution_count": 262,
   "metadata": {},
   "outputs": [],
   "source": [
    "test = L_c_0.numpy()"
   ]
  },
  {
   "cell_type": "code",
   "execution_count": 263,
   "metadata": {},
   "outputs": [
    {
     "data": {
      "text/plain": [
       "(1, 7, 7)"
      ]
     },
     "execution_count": 263,
     "metadata": {},
     "output_type": "execute_result"
    }
   ],
   "source": [
    "test.shape"
   ]
  },
  {
   "cell_type": "code",
   "execution_count": 264,
   "metadata": {},
   "outputs": [],
   "source": [
    "def upsample_array(arr, final_shape):\n",
    "    integer_div= []\n",
    "    modulo = []\n",
    "    out = np.copy(arr)\n",
    "    assert len(final_shape) == len(arr.shape), \"Output shape has to have same number of dims!\"\n",
    "    for i in range(len(arr.shape)):\n",
    "        integer_div.append(final_shape[i]//arr.shape[i])\n",
    "        modulo.append(final_shape[i]%arr.shape[i])\n",
    "    if len(modulo) != 0:\n",
    "        integer_div = [i+1 for i in integer_div]\n",
    "    for idx, i in enumerate(integer_div):\n",
    "        out = out.repeat(i, axis=idx)\n",
    "    if out.shape != final_shape:\n",
    "        start = [None for i in range(len(final_shape))]\n",
    "        end = final_shape\n",
    "        zipped = tuple(zip(start, final_shape))\n",
    "        slices = tuple([slice(i[0], i[1]) for i in zipped])\n",
    "        out = out[slices]\n",
    "    return out"
   ]
  },
  {
   "cell_type": "code",
   "execution_count": 265,
   "metadata": {},
   "outputs": [
    {
     "data": {
      "text/plain": [
       "(16, 16)"
      ]
     },
     "execution_count": 265,
     "metadata": {},
     "output_type": "execute_result"
    }
   ],
   "source": [
    "upsample_array(test[0, :, :], (16, 16)).shape"
   ]
  },
  {
   "cell_type": "code",
   "execution_count": 266,
   "metadata": {},
   "outputs": [
    {
     "data": {
      "text/plain": [
       "(1, 7, 7)"
      ]
     },
     "execution_count": 266,
     "metadata": {},
     "output_type": "execute_result"
    }
   ],
   "source": [
    "test.shape"
   ]
  },
  {
   "cell_type": "code",
   "execution_count": 267,
   "metadata": {},
   "outputs": [
    {
     "data": {
      "text/plain": [
       "(16, 16)"
      ]
     },
     "execution_count": 267,
     "metadata": {},
     "output_type": "execute_result"
    }
   ],
   "source": [
    "test_test = upsample_array(test[0, :, :], (16, 16))\n",
    "test_test = Image.fromarray(test_test)\n",
    "np.array(test_test).shape"
   ]
  },
  {
   "cell_type": "code",
   "execution_count": 268,
   "metadata": {},
   "outputs": [
    {
     "data": {
      "text/plain": [
       "<matplotlib.image.AxesImage at 0x13c8646a0>"
      ]
     },
     "execution_count": 268,
     "metadata": {},
     "output_type": "execute_result"
    },
    {
     "data": {
      "image/png": "[encoded data removed]",
      "text/plain": [
       "<Figure size 432x288 with 1 Axes>"
      ]
     },
     "metadata": {
      "needs_background": "light"
     },
     "output_type": "display_data"
    }
   ],
   "source": [
    "plt.imshow(test_test, cmap='gray')"
   ]
  },
  {
   "cell_type": "code",
   "execution_count": 269,
   "metadata": {},
   "outputs": [
    {
     "data": {
      "text/plain": [
       "<matplotlib.image.AxesImage at 0x13cae2fd0>"
      ]
     },
     "execution_count": 269,
     "metadata": {},
     "output_type": "execute_result"
    },
    {
     "data": {
      "image/png": "[encoded data removed]",
      "text/plain": [
       "<Figure size 432x288 with 1 Axes>"
      ]
     },
     "metadata": {
      "needs_background": "light"
     },
     "output_type": "display_data"
    }
   ],
   "source": [
    "plt.imshow(im*test_test, cmap='gray')"
   ]
  },
  {
   "cell_type": "markdown",
   "metadata": {},
   "source": [
    "#### Now we can make a heatmap of features that have been detected"
   ]
  },
  {
   "cell_type": "code",
   "execution_count": 270,
   "metadata": {},
   "outputs": [
    {
     "data": {
      "image/png": "[encoded data removed]",
      "text/plain": [
       "<Figure size 432x288 with 1 Axes>"
      ]
     },
     "metadata": {
      "needs_background": "light"
     },
     "output_type": "display_data"
    }
   ],
   "source": [
    "plt_im1 = plt.imshow(im, cmap=plt.cm.gray, interpolation='nearest')\n",
    "\n",
    "plt_im2 = plt.imshow(test_test*im, cmap=plt.cm.hot, alpha=.9, interpolation='bilinear')\n",
    "\n",
    "plt.show()"
   ]
  },
  {
   "cell_type": "code",
   "execution_count": null,
   "metadata": {},
   "outputs": [],
   "source": []
  }
 ],
 "metadata": {
  "kernelspec": {
   "display_name": "Python 3",
   "language": "python",
   "name": "python3"
  },
  "language_info": {
   "codemirror_mode": {
    "name": "ipython",
    "version": 3
   },
   "file_extension": ".py",
   "mimetype": "text/x-python",
   "name": "python",
   "nbconvert_exporter": "python",
   "pygments_lexer": "ipython3",
   "version": "3.7.3"
  }
 },
 "nbformat": 4,
 "nbformat_minor": 2
}
