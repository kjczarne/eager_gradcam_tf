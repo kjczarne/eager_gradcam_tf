{
 "cells": [
  {
   "cell_type": "markdown",
   "metadata": {},
   "source": [
    "# Grad-CAM for simple Sequential models"
   ]
  },
  {
   "cell_type": "code",
   "execution_count": 1,
   "metadata": {},
   "outputs": [],
   "source": [
    "import tensorflow as tf\n",
    "import numpy as np\n",
    "from PIL import Image\n",
    "import matplotlib.pyplot as plt\n",
    "import datetime\n",
    "import cv2"
   ]
  },
  {
   "cell_type": "code",
   "execution_count": 2,
   "metadata": {},
   "outputs": [],
   "source": [
    "%load_ext tensorboard.notebook"
   ]
  },
  {
   "cell_type": "markdown",
   "metadata": {},
   "source": [
    "## Making the images"
   ]
  },
  {
   "cell_type": "markdown",
   "metadata": {},
   "source": [
    "Images need to be prepared to represent two classes so we can feed them into a binary classifier. We will kick it off with creating perfect instances of those images. Those will be:\n",
    "\n",
    "* 16x16 images created from numpy arrays\n",
    "* representing intuitive shapes to make it easy to trace\n",
    "* fed into an easy to use, simple architecture for gradient tracing and designing custom functions"
   ]
  },
  {
   "cell_type": "code",
   "execution_count": 3,
   "metadata": {},
   "outputs": [],
   "source": [
    "# class_zero_template = np.ones((16,16))\n",
    "# for idx, el in enumerate(class_zero_template):\n",
    "#     class_zero_template[idx][idx] = 0\n",
    "#     class_zero_template[len(class_zero_template[idx])-1-idx][idx] = 0\n",
    "# class_zero_template"
   ]
  },
  {
   "cell_type": "code",
   "execution_count": 4,
   "metadata": {},
   "outputs": [],
   "source": [
    "# plt.imshow(class_zero_template)"
   ]
  },
  {
   "cell_type": "code",
   "execution_count": 5,
   "metadata": {},
   "outputs": [],
   "source": [
    "# class_one_template[:, idx2]"
   ]
  },
  {
   "cell_type": "code",
   "execution_count": 6,
   "metadata": {},
   "outputs": [],
   "source": [
    "# class_one_template = np.ones((16,16))\n",
    "# idx1 = (len(class_one_template)-2)//2\n",
    "# idx2 = (len(class_one_template)-2)//2\n",
    "# class_one_template[idx1] = 0\n",
    "# class_one_template[idx1+1] = 0\n",
    "# class_one_template[:, idx2]=0\n",
    "# class_one_template[:, idx2+1]=0\n",
    "# class_one_template"
   ]
  },
  {
   "cell_type": "code",
   "execution_count": 7,
   "metadata": {},
   "outputs": [],
   "source": [
    "# plt.imshow(class_one_template)"
   ]
  },
  {
   "cell_type": "code",
   "execution_count": 169,
   "metadata": {},
   "outputs": [],
   "source": [
    "class_zero_template = np.zeros((32,32))"
   ]
  },
  {
   "cell_type": "code",
   "execution_count": 170,
   "metadata": {},
   "outputs": [],
   "source": [
    "class_zero_template = np.array([[0., 0., 0., 0., 0., 0., 0., 0., 0., 0., 0., 0., 0., 0., 0., 0.],\n",
    "                                [0., 0., 0., 0., 0., 0., 0., 0., 0., 0., 0., 0., 0., 0., 0., 0.],\n",
    "                                [0., 0., 0., 0., 0., 0., 0., 0., 0., 0., 0., 0., 0., 0., 0., 0.],\n",
    "                                [0., 0., 0., 0., 0., 0., 0., 0., 0., 0., 0., 0., 0., 0., 0., 0.],\n",
    "                                [0., 0., 0., 0., 0., 1., 0., 0., 0., 0., 0., 0., 0., 0., 0., 0.],\n",
    "                                [0., 0., 0., 0., 0., 1., 1., 0., 0., 0., 0., 0., 0., 0., 0., 0.],\n",
    "                                [0., 0., 0., 0., 0., 1., 1., 1., 0., 0., 0., 0., 0., 0., 0., 0.],\n",
    "                                [0., 0., 0., 0., 0., 1., 1., 1., 1., 0., 0., 0., 0., 0., 0., 0.],\n",
    "                                [0., 0., 0., 0., 0., 1., 1., 1., 1., 1., 0., 0., 0., 0., 0., 0.],\n",
    "                                [0., 0., 0., 0., 0., 1., 1., 1., 1., 1., 1., 0., 0., 0., 0., 0.],\n",
    "                                [0., 0., 0., 0., 0., 0., 0., 0., 0., 0., 0., 0., 0., 0., 0., 0.],\n",
    "                                [0., 0., 0., 0., 0., 0., 0., 0., 0., 0., 0., 0., 0., 0., 0., 0.],\n",
    "                                [0., 0., 0., 0., 0., 0., 0., 0., 0., 0., 0., 0., 0., 0., 0., 0.],\n",
    "                                [0., 0., 0., 0., 0., 0., 0., 0., 0., 0., 0., 0., 0., 0., 0., 0.],\n",
    "                                [0., 0., 0., 0., 0., 0., 0., 0., 0., 0., 0., 0., 0., 0., 0., 0.],\n",
    "                                [0., 0., 0., 0., 0., 0., 0., 0., 0., 0., 0., 0., 0., 0., 0., 0.]])"
   ]
  },
  {
   "cell_type": "code",
   "execution_count": 171,
   "metadata": {},
   "outputs": [
    {
     "data": {
      "text/plain": [
       "<matplotlib.image.AxesImage at 0x14154e7b8>"
      ]
     },
     "execution_count": 171,
     "metadata": {},
     "output_type": "execute_result"
    },
    {
     "data": {
      "image/png": "[encoded data removed]",
      "text/plain": [
       "<Figure size 432x288 with 1 Axes>"
      ]
     },
     "metadata": {
      "needs_background": "light"
     },
     "output_type": "display_data"
    }
   ],
   "source": [
    "plt.imshow(class_zero_template)"
   ]
  },
  {
   "cell_type": "code",
   "execution_count": 172,
   "metadata": {},
   "outputs": [],
   "source": [
    "# class_one_template[:, idx2]"
   ]
  },
  {
   "cell_type": "code",
   "execution_count": 173,
   "metadata": {},
   "outputs": [],
   "source": [
    "# class_one_template = np.zeros((16,16))\n",
    "# idx1 = (len(class_one_template)-2)//2\n",
    "# idx2 = (len(class_one_template)-2)//2\n",
    "# class_one_template[idx1] = 1\n",
    "# class_one_template[idx1+1] = 1\n",
    "# class_one_template[:, idx2]=1\n",
    "# class_one_template[:, idx2+1]=1\n",
    "# class_one_template"
   ]
  },
  {
   "cell_type": "code",
   "execution_count": 174,
   "metadata": {},
   "outputs": [],
   "source": [
    "class_one_template = np.array([[0., 0., 0., 0., 0., 0., 0., 0., 0., 0., 0., 0., 0., 0., 0., 0.],\n",
    "                                [0., 0., 0., 0., 0., 0., 0., 0., 0., 0., 0., 0., 0., 0., 0., 0.],\n",
    "                                [0., 0., 0., 0., 0., 0., 0., 0., 0., 0., 0., 0., 0., 0., 0., 0.],\n",
    "                                [0., 0., 0., 0., 0., 0., 0., 0., 0., 0., 0., 0., 0., 0., 0., 0.],\n",
    "                                [0., 0., 0., 0., 0., 0., 0., 0., 0., 0., 0., 0., 0., 0., 0., 0.],\n",
    "                                [0., 0., 0., 0., 0., 0., 1., 1., 1., 1., 1., 0., 0., 0., 0., 0.],\n",
    "                                [0., 0., 0., 0., 0., 0., 1., 1., 1., 1., 1., 0., 0., 0., 0., 0.],\n",
    "                                [0., 0., 0., 0., 0., 0., 1., 1., 0., 1., 1., 0., 0., 0., 0., 0.],\n",
    "                                [0., 0., 0., 0., 0., 0., 1., 1., 1., 1., 1., 0., 0., 0., 0., 0.],\n",
    "                                [0., 0., 0., 0., 0., 0., 1., 1., 1., 1., 1., 0., 0., 0., 0., 0.],\n",
    "                                [0., 0., 0., 0., 0., 0., 0., 0., 0., 0., 0., 0., 0., 0., 0., 0.],\n",
    "                                [0., 0., 0., 0., 0., 0., 0., 0., 0., 0., 0., 0., 0., 0., 0., 0.],\n",
    "                                [0., 0., 0., 0., 0., 0., 0., 0., 0., 0., 0., 0., 0., 0., 0., 0.],\n",
    "                                [0., 0., 0., 0., 0., 0., 0., 0., 0., 0., 0., 0., 0., 0., 0., 0.],\n",
    "                                [0., 0., 0., 0., 0., 0., 0., 0., 0., 0., 0., 0., 0., 0., 0., 0.],\n",
    "                                [0., 0., 0., 0., 0., 0., 0., 0., 0., 0., 0., 0., 0., 0., 0., 0.]])"
   ]
  },
  {
   "cell_type": "code",
   "execution_count": 175,
   "metadata": {},
   "outputs": [
    {
     "data": {
      "text/plain": [
       "<matplotlib.image.AxesImage at 0x13dc04be0>"
      ]
     },
     "execution_count": 175,
     "metadata": {},
     "output_type": "execute_result"
    },
    {
     "data": {
      "image/png": "[encoded data removed]",
      "text/plain": [
       "<Figure size 432x288 with 1 Axes>"
      ]
     },
     "metadata": {
      "needs_background": "light"
     },
     "output_type": "display_data"
    }
   ],
   "source": [
    "plt.imshow(class_one_template)"
   ]
  },
  {
   "cell_type": "code",
   "execution_count": 176,
   "metadata": {},
   "outputs": [
    {
     "data": {
      "text/plain": [
       "(16, 16)"
      ]
     },
     "execution_count": 176,
     "metadata": {},
     "output_type": "execute_result"
    }
   ],
   "source": [
    "class_one_template.shape"
   ]
  },
  {
   "cell_type": "code",
   "execution_count": null,
   "metadata": {},
   "outputs": [],
   "source": [
    "class_one_template"
   ]
  },
  {
   "cell_type": "markdown",
   "metadata": {},
   "source": [
    "#### Now we introduce some 'random noise', essentially switching a fixed number of pixels within our 16x16 map to 0"
   ]
  },
  {
   "cell_type": "code",
   "execution_count": 46,
   "metadata": {},
   "outputs": [
    {
     "data": {
      "text/plain": [
       "<matplotlib.image.AxesImage at 0x137e7fe48>"
      ]
     },
     "execution_count": 46,
     "metadata": {},
     "output_type": "execute_result"
    },
    {
     "data": {
      "image/png": "[encoded data removed]",
      "text/plain": [
       "<Figure size 432x288 with 1 Axes>"
      ]
     },
     "metadata": {
      "needs_background": "light"
     },
     "output_type": "display_data"
    }
   ],
   "source": [
    "def generate_noise(input_img, num_of_pixels):\n",
    "    idx1_arr = np.random.randint((input_img.shape[0]-1), size=num_of_pixels)\n",
    "    idx2_arr = np.random.randint((input_img.shape[1]-1), size=num_of_pixels)\n",
    "    out_img = np.copy(input_img)\n",
    "    for i, j in zip(idx1_arr, idx2_arr):\n",
    "        out_img[i][j] = 1\n",
    "    return out_img\n",
    "\n",
    "def image_generator(input_img, pixel_noise):\n",
    "    while True:\n",
    "        yield generate_noise(input_img, pixel_noise)\n",
    "\n",
    "plt.imshow(generate_noise(class_one_template, 3))"
   ]
  },
  {
   "cell_type": "markdown",
   "metadata": {},
   "source": [
    "# Generating data for the training and validation"
   ]
  },
  {
   "cell_type": "code",
   "execution_count": 47,
   "metadata": {},
   "outputs": [],
   "source": [
    "class_zero_generator = image_generator(class_zero_template, 3)\n",
    "class_one_generator = image_generator(class_one_template, 3)\n",
    "\n",
    "# initialize those as None to make conditionals work in the loops\n",
    "class_zero_train = None\n",
    "class_zero_test = None\n",
    "class_one_train = None\n",
    "class_one_test = None\n",
    "\n",
    "# roughly 80/20 split\n",
    "train_size = 64\n",
    "test_size = 13\n",
    "for i in range(train_size):\n",
    "    if class_zero_train is not None:\n",
    "        class_zero_train = np.append(class_zero_train, np.expand_dims(next(class_zero_generator), axis=0), axis=0)\n",
    "    else:\n",
    "        class_zero_train = np.expand_dims(next(class_zero_generator), axis=0)\n",
    "    if class_one_train is not None:\n",
    "        class_one_train = np.append(class_one_train, np.expand_dims(next(class_one_generator), axis=0), axis=0)\n",
    "    else: \n",
    "        class_one_train = np.expand_dims(next(class_one_generator), axis=0)\n",
    "\n",
    "class_zero_labels = np.zeros(train_size)\n",
    "class_one_labels = np.ones(train_size)\n",
    "\n",
    "x_train = np.append(class_zero_train, class_one_train, axis=0)\n",
    "y_train = np.append(class_zero_labels, class_one_labels)\n",
    "    \n",
    "for i in range(test_size):\n",
    "    if class_zero_test is not None:\n",
    "        class_zero_test = np.append(class_zero_test, np.expand_dims(next(class_zero_generator), axis=0), axis=0)\n",
    "    else:\n",
    "        class_zero_test = np.expand_dims(next(class_zero_generator), axis=0)\n",
    "    if class_one_test is not None:\n",
    "        class_one_test = np.append(class_one_test, np.expand_dims(next(class_one_generator), axis=0), axis=0)\n",
    "    else:\n",
    "        class_one_test = np.expand_dims(next(class_one_generator), axis=0)\n",
    "    \n",
    "class_zero_labels = np.zeros(test_size)\n",
    "class_one_labels = np.ones(test_size)\n",
    "\n",
    "x_test = np.append(class_zero_test, class_one_test, axis=0)\n",
    "y_test = np.append(class_zero_labels, class_one_labels)"
   ]
  },
  {
   "cell_type": "code",
   "execution_count": 48,
   "metadata": {},
   "outputs": [
    {
     "data": {
      "text/plain": [
       "(128, 16, 16)"
      ]
     },
     "execution_count": 48,
     "metadata": {},
     "output_type": "execute_result"
    }
   ],
   "source": [
    "x_train.shape"
   ]
  },
  {
   "cell_type": "code",
   "execution_count": 49,
   "metadata": {},
   "outputs": [
    {
     "data": {
      "text/plain": [
       "(128,)"
      ]
     },
     "execution_count": 49,
     "metadata": {},
     "output_type": "execute_result"
    }
   ],
   "source": [
    "y_train.shape"
   ]
  },
  {
   "cell_type": "code",
   "execution_count": 50,
   "metadata": {},
   "outputs": [
    {
     "data": {
      "text/plain": [
       "(26, 16, 16)"
      ]
     },
     "execution_count": 50,
     "metadata": {},
     "output_type": "execute_result"
    }
   ],
   "source": [
    "x_test.shape"
   ]
  },
  {
   "cell_type": "code",
   "execution_count": 51,
   "metadata": {},
   "outputs": [
    {
     "data": {
      "text/plain": [
       "(26,)"
      ]
     },
     "execution_count": 51,
     "metadata": {},
     "output_type": "execute_result"
    }
   ],
   "source": [
    "y_test.shape"
   ]
  },
  {
   "cell_type": "code",
   "execution_count": 52,
   "metadata": {},
   "outputs": [],
   "source": [
    "def unison_shuffled_copies(a, b):\n",
    "    assert len(a) == len(b)\n",
    "    p = np.random.permutation(len(a))\n",
    "    return a[p], b[p]\n",
    "\n",
    "# taken from: https://stackoverflow.com/questions/4601373/better-way-to-shuffle-two-numpy-arrays-in-unison  mrtw's answer"
   ]
  },
  {
   "cell_type": "code",
   "execution_count": 53,
   "metadata": {},
   "outputs": [],
   "source": [
    "x_train, y_train = unison_shuffled_copies(x_train, y_train)\n",
    "x_test, y_test = unison_shuffled_copies(x_test, y_test)"
   ]
  },
  {
   "cell_type": "markdown",
   "metadata": {},
   "source": [
    "#### Let's try to visualize a few examples from the training set"
   ]
  },
  {
   "cell_type": "code",
   "execution_count": 54,
   "metadata": {},
   "outputs": [
    {
     "data": {
      "text/plain": [
       "(128, 16, 16)"
      ]
     },
     "execution_count": 54,
     "metadata": {},
     "output_type": "execute_result"
    }
   ],
   "source": [
    "x_train.shape"
   ]
  },
  {
   "cell_type": "code",
   "execution_count": 55,
   "metadata": {},
   "outputs": [],
   "source": [
    "def show_something(dataset, labels, index):\n",
    "    plt.imshow(x_train[index,:,:])\n",
    "    print(\"label for this image is: {}\".format(labels[index]))"
   ]
  },
  {
   "cell_type": "code",
   "execution_count": 56,
   "metadata": {},
   "outputs": [
    {
     "name": "stdout",
     "output_type": "stream",
     "text": [
      "label for this image is: 0.0\n"
     ]
    },
    {
     "data": {
      "image/png": "[encoded data removed]",
      "text/plain": [
       "<Figure size 432x288 with 1 Axes>"
      ]
     },
     "metadata": {
      "needs_background": "light"
     },
     "output_type": "display_data"
    }
   ],
   "source": [
    "show_something(x_train, y_train, np.random.randint(len(y_train)-1))  # this shows a random image from the training dataset"
   ]
  },
  {
   "cell_type": "markdown",
   "metadata": {},
   "source": [
    "#### Now we expand dimensions to stay consistent with NWHC, so we need to expand axis -1 (last one)"
   ]
  },
  {
   "cell_type": "code",
   "execution_count": 57,
   "metadata": {},
   "outputs": [
    {
     "data": {
      "text/plain": [
       "(128, 16, 16, 1)"
      ]
     },
     "execution_count": 57,
     "metadata": {},
     "output_type": "execute_result"
    }
   ],
   "source": [
    "np.expand_dims(x_train, axis=-1).shape"
   ]
  },
  {
   "cell_type": "code",
   "execution_count": 58,
   "metadata": {},
   "outputs": [],
   "source": [
    "x_train = np.expand_dims(x_train, axis=-1)\n",
    "y_train = np.expand_dims(y_train, axis=-1)\n",
    "\n",
    "x_test = np.expand_dims(x_test, axis=-1)\n",
    "y_test = np.expand_dims(y_test, axis=-1)"
   ]
  },
  {
   "cell_type": "markdown",
   "metadata": {},
   "source": [
    "# Creating the model"
   ]
  },
  {
   "cell_type": "code",
   "execution_count": 676,
   "metadata": {},
   "outputs": [],
   "source": [
    "model = tf.keras.models.Sequential()\n",
    "model.add(tf.keras.layers.Conv2D(64, (3, 3), input_shape=(16, 16, 1), activation='relu'))\n",
    "model.add(tf.keras.layers.MaxPool2D(pool_size=(2,2), padding='same'))\n",
    "model.add(tf.keras.layers.Conv2D(128, (1, 1), activation='relu'))\n",
    "model.add(tf.keras.layers.MaxPool2D(pool_size=(1,1), padding='same'))\n",
    "model.add(tf.keras.layers.Flatten())\n",
    "model.add(tf.keras.layers.Dense(16, activation='relu'))\n",
    "# model.add(tf.keras.layers.GlobalAveragePooling2D())\n",
    "model.add(tf.keras.layers.Dense(1, activation='sigmoid'))"
   ]
  },
  {
   "cell_type": "code",
   "execution_count": 677,
   "metadata": {},
   "outputs": [
    {
     "name": "stdout",
     "output_type": "stream",
     "text": [
      "Model: \"sequential_27\"\n",
      "_________________________________________________________________\n",
      "Layer (type)                 Output Shape              Param #   \n",
      "=================================================================\n",
      "conv2d_51 (Conv2D)           (None, 14, 14, 64)        640       \n",
      "_________________________________________________________________\n",
      "max_pooling2d_44 (MaxPooling (None, 7, 7, 64)          0         \n",
      "_________________________________________________________________\n",
      "conv2d_52 (Conv2D)           (None, 7, 7, 128)         8320      \n",
      "_________________________________________________________________\n",
      "max_pooling2d_45 (MaxPooling (None, 7, 7, 128)         0         \n",
      "_________________________________________________________________\n",
      "flatten_27 (Flatten)         (None, 6272)              0         \n",
      "_________________________________________________________________\n",
      "dense_54 (Dense)             (None, 16)                100368    \n",
      "_________________________________________________________________\n",
      "dense_55 (Dense)             (None, 1)                 17        \n",
      "=================================================================\n",
      "Total params: 109,345\n",
      "Trainable params: 109,345\n",
      "Non-trainable params: 0\n",
      "_________________________________________________________________\n"
     ]
    }
   ],
   "source": [
    "model.summary()"
   ]
  },
  {
   "cell_type": "code",
   "execution_count": 678,
   "metadata": {},
   "outputs": [],
   "source": [
    "log_dir=\"logs/fit/\" + datetime.datetime.now().strftime(\"%Y%m%d-%H%M%S\")\n",
    "tensorboard_callback = tf.keras.callbacks.TensorBoard(log_dir=log_dir, histogram_freq=1)"
   ]
  },
  {
   "cell_type": "code",
   "execution_count": 679,
   "metadata": {},
   "outputs": [],
   "source": [
    "model.compile(optimizer=tf.keras.optimizers.SGD(learning_rate=0.001, momentum=0.1), loss='binary_crossentropy', metrics=['accuracy'])"
   ]
  },
  {
   "cell_type": "code",
   "execution_count": 680,
   "metadata": {},
   "outputs": [
    {
     "name": "stdout",
     "output_type": "stream",
     "text": [
      "Train on 128 samples, validate on 26 samples\n",
      "Epoch 1/20\n",
      "128/128 [==============================] - 1s 5ms/sample - loss: 0.7046 - accuracy: 0.1406 - val_loss: 0.7051 - val_accuracy: 0.1154\n",
      "Epoch 2/20\n",
      "128/128 [==============================] - 0s 531us/sample - loss: 0.7022 - accuracy: 0.1797 - val_loss: 0.7028 - val_accuracy: 0.1538\n",
      "Epoch 3/20\n",
      "128/128 [==============================] - 0s 790us/sample - loss: 0.7000 - accuracy: 0.2344 - val_loss: 0.7006 - val_accuracy: 0.1923\n",
      "Epoch 4/20\n",
      "128/128 [==============================] - 0s 710us/sample - loss: 0.6978 - accuracy: 0.2969 - val_loss: 0.6985 - val_accuracy: 0.2692\n",
      "Epoch 5/20\n",
      "128/128 [==============================] - 0s 719us/sample - loss: 0.6958 - accuracy: 0.4062 - val_loss: 0.6965 - val_accuracy: 0.4231\n",
      "Epoch 6/20\n",
      "128/128 [==============================] - 0s 1ms/sample - loss: 0.6938 - accuracy: 0.5156 - val_loss: 0.6946 - val_accuracy: 0.4615\n",
      "Epoch 7/20\n",
      "128/128 [==============================] - 0s 885us/sample - loss: 0.6919 - accuracy: 0.5859 - val_loss: 0.6928 - val_accuracy: 0.5000\n",
      "Epoch 8/20\n",
      "128/128 [==============================] - 0s 770us/sample - loss: 0.6900 - accuracy: 0.6484 - val_loss: 0.6911 - val_accuracy: 0.6154\n",
      "Epoch 9/20\n",
      "128/128 [==============================] - 0s 682us/sample - loss: 0.6884 - accuracy: 0.7031 - val_loss: 0.6895 - val_accuracy: 0.6538\n",
      "Epoch 10/20\n",
      "128/128 [==============================] - 0s 665us/sample - loss: 0.6867 - accuracy: 0.7422 - val_loss: 0.6880 - val_accuracy: 0.6538\n",
      "Epoch 11/20\n",
      "128/128 [==============================] - 0s 560us/sample - loss: 0.6852 - accuracy: 0.7734 - val_loss: 0.6865 - val_accuracy: 0.6923\n",
      "Epoch 12/20\n",
      "128/128 [==============================] - 0s 750us/sample - loss: 0.6837 - accuracy: 0.8047 - val_loss: 0.6850 - val_accuracy: 0.7692\n",
      "Epoch 13/20\n",
      "128/128 [==============================] - 0s 720us/sample - loss: 0.6822 - accuracy: 0.8828 - val_loss: 0.6836 - val_accuracy: 0.8077\n",
      "Epoch 14/20\n",
      "128/128 [==============================] - 0s 679us/sample - loss: 0.6808 - accuracy: 0.9297 - val_loss: 0.6821 - val_accuracy: 0.8462\n",
      "Epoch 15/20\n",
      "128/128 [==============================] - 0s 591us/sample - loss: 0.6793 - accuracy: 0.9375 - val_loss: 0.6807 - val_accuracy: 0.8846\n",
      "Epoch 16/20\n",
      "128/128 [==============================] - 0s 594us/sample - loss: 0.6779 - accuracy: 0.9453 - val_loss: 0.6793 - val_accuracy: 0.8846\n",
      "Epoch 17/20\n",
      "128/128 [==============================] - 0s 670us/sample - loss: 0.6765 - accuracy: 0.9609 - val_loss: 0.6779 - val_accuracy: 0.9615\n",
      "Epoch 18/20\n",
      "128/128 [==============================] - 0s 633us/sample - loss: 0.6751 - accuracy: 0.9766 - val_loss: 0.6765 - val_accuracy: 0.9615\n",
      "Epoch 19/20\n",
      "128/128 [==============================] - 0s 817us/sample - loss: 0.6738 - accuracy: 0.9766 - val_loss: 0.6751 - val_accuracy: 1.0000\n",
      "Epoch 20/20\n",
      "128/128 [==============================] - 0s 689us/sample - loss: 0.6724 - accuracy: 0.9922 - val_loss: 0.6737 - val_accuracy: 1.0000\n"
     ]
    },
    {
     "data": {
      "text/plain": [
       "<tensorflow.python.keras.callbacks.History at 0x148a681d0>"
      ]
     },
     "execution_count": 680,
     "metadata": {},
     "output_type": "execute_result"
    }
   ],
   "source": [
    "model.fit(x=x_train,\n",
    "          y=y_train, \n",
    "          epochs=20, \n",
    "          validation_data=(x_test, y_test), \n",
    "          callbacks=[tensorboard_callback])"
   ]
  },
  {
   "cell_type": "code",
   "execution_count": 70,
   "metadata": {},
   "outputs": [
    {
     "data": {
      "text/plain": [
       "Reusing TensorBoard on port 6007 (pid 24948), started -1 day, 23:01:40 ago. (Use '!kill 24948' to kill it.)"
      ]
     },
     "metadata": {},
     "output_type": "display_data"
    },
    {
     "data": {
      "text/html": [
       "\n",
       "        <iframe\n",
       "            width=\"100%\"\n",
       "            height=\"800\"\n",
       "            src=\"http://localhost:6007\"\n",
       "            frameborder=\"0\"\n",
       "            allowfullscreen\n",
       "        ></iframe>\n",
       "        "
      ],
      "text/plain": [
       "<IPython.lib.display.IFrame at 0x139d49cc0>"
      ]
     },
     "metadata": {},
     "output_type": "display_data"
    }
   ],
   "source": [
    "%tensorboard --logdir logs"
   ]
  },
  {
   "cell_type": "markdown",
   "metadata": {},
   "source": [
    "# Let's start tracing back the gradients"
   ]
  },
  {
   "cell_type": "markdown",
   "metadata": {},
   "source": [
    "### First we need a sample image to make predictions on"
   ]
  },
  {
   "cell_type": "code",
   "execution_count": 681,
   "metadata": {},
   "outputs": [],
   "source": [
    "im = next(image_generator(class_zero_template, 3))"
   ]
  },
  {
   "cell_type": "code",
   "execution_count": 682,
   "metadata": {},
   "outputs": [
    {
     "data": {
      "text/plain": [
       "<matplotlib.image.AxesImage at 0x14948ebe0>"
      ]
     },
     "execution_count": 682,
     "metadata": {},
     "output_type": "execute_result"
    },
    {
     "data": {
      "image/png": "[encoded data removed]",
      "text/plain": [
       "<Figure size 432x288 with 1 Axes>"
      ]
     },
     "metadata": {
      "needs_background": "light"
     },
     "output_type": "display_data"
    }
   ],
   "source": [
    "plt.imshow(im)"
   ]
  },
  {
   "cell_type": "code",
   "execution_count": 683,
   "metadata": {},
   "outputs": [
    {
     "data": {
      "text/plain": [
       "(1, 16, 16, 1)"
      ]
     },
     "execution_count": 683,
     "metadata": {},
     "output_type": "execute_result"
    }
   ],
   "source": [
    "im.reshape(1, *im.shape, 1).shape"
   ]
  },
  {
   "cell_type": "code",
   "execution_count": 684,
   "metadata": {},
   "outputs": [
    {
     "data": {
      "text/plain": [
       "array([[0.49102256]], dtype=float32)"
      ]
     },
     "execution_count": 684,
     "metadata": {},
     "output_type": "execute_result"
    }
   ],
   "source": [
    "model.predict(im.reshape(1, *im.shape, 1))  # prediction value"
   ]
  },
  {
   "cell_type": "code",
   "execution_count": 685,
   "metadata": {},
   "outputs": [
    {
     "data": {
      "text/plain": [
       "<tf.Tensor: id=144913, shape=(1, 1), dtype=float32, numpy=array([[0.49102256]], dtype=float32)>"
      ]
     },
     "execution_count": 685,
     "metadata": {},
     "output_type": "execute_result"
    }
   ],
   "source": [
    "model(tf.cast(im.reshape(1, *im.shape, 1), tf.float32))  # also a prediction value but using `call` instead of `predict`\n",
    "# this returns a tf.Tensor"
   ]
  },
  {
   "cell_type": "markdown",
   "metadata": {},
   "source": [
    "#### We can use GradientTape to trace gradient values\n",
    "Let's calculate the MSE for this particular predition"
   ]
  },
  {
   "cell_type": "code",
   "execution_count": 686,
   "metadata": {},
   "outputs": [],
   "source": [
    "with tf.GradientTape() as tape:\n",
    "    error = model(tf.cast(im.reshape(1, *im.shape, 1), tf.float32)) - 0 # NOT model.predict(x) - y\n",
    "    loss_value = tf.reduce_mean(tf.square(error))\n",
    "gradients = tape.gradient(loss_value, model.variables)"
   ]
  },
  {
   "cell_type": "markdown",
   "metadata": {},
   "source": [
    "`model.variables` is where kernels and biases live"
   ]
  },
  {
   "cell_type": "code",
   "execution_count": 687,
   "metadata": {},
   "outputs": [
    {
     "name": "stdout",
     "output_type": "stream",
     "text": [
      "['conv2d_51/kernel:0', 'conv2d_51/bias:0', 'conv2d_52/kernel:0', 'conv2d_52/bias:0', 'dense_54/kernel:0', 'dense_54/bias:0', 'dense_55/kernel:0', 'dense_55/bias:0']\n"
     ]
    }
   ],
   "source": [
    "print([i.name for i in model.variables])"
   ]
  },
  {
   "cell_type": "markdown",
   "metadata": {},
   "source": [
    "We can create thus a list of all kernels and biases associated with any **convolutional layers** we have in our model and put it in a list (`A_k`)."
   ]
  },
  {
   "cell_type": "code",
   "execution_count": 688,
   "metadata": {},
   "outputs": [],
   "source": [
    "def get_outputs_at_each_layer(model, input_image, layer_type):\n",
    "    \"\"\"\n",
    "    make it robust to weird connections between layers\n",
    "    \"\"\"\n",
    "    with tf.GradientTape() as tape:\n",
    "        outputs = []\n",
    "        out = model.get_layer(model.layers[0].name)(input_image)\n",
    "        outputs.append(out)\n",
    "        aux_input_dict = dict()\n",
    "        for i in model.layers[1:]:\n",
    "    #         out = model.get_layer(i.name)(out)\n",
    "            outbound_nodes = model.get_layer(i.name).outbound_nodes\n",
    "            inbound_nodes = model.get_layer(i.name).inbound_nodes\n",
    "            for n in outbound_nodes:\n",
    "                mapping = n.get_config()\n",
    "    #             print(mapping['inbound_layers'])\n",
    "                out = model.get_layer(mapping['inbound_layers'])(out)\n",
    "                if layer_type in i.name:\n",
    "                    outputs.append(out)\n",
    "    #         print(i.name)\n",
    "    gradients = tape.gradient(out, outputs)\n",
    "    return outputs, gradients"
   ]
  },
  {
   "cell_type": "code",
   "execution_count": 689,
   "metadata": {},
   "outputs": [],
   "source": [
    "A_k, dy_dA_k = get_outputs_at_each_layer(model, tf.cast(im.reshape(1, *im.shape, 1), tf.float32), 'conv')"
   ]
  },
  {
   "cell_type": "code",
   "execution_count": 690,
   "metadata": {},
   "outputs": [],
   "source": [
    "# A_k = [i for i in model.variables if (('conv' in i.name) and ('kernel' in i.name))]\n",
    "# print([i.name for i in A_k])"
   ]
  },
  {
   "cell_type": "code",
   "execution_count": 691,
   "metadata": {},
   "outputs": [],
   "source": [
    "# with tf.GradientTape() as g:\n",
    "#     error = model(tf.cast(im.reshape(1, *im.shape, 1), tf.float32)) - 0 # NOT model.predict(x) - y\n",
    "#     loss_value = tf.reduce_mean(tf.square(error))\n",
    "# dy_dA_k = g.gradient(loss_value, A_k)"
   ]
  },
  {
   "cell_type": "code",
   "execution_count": 692,
   "metadata": {},
   "outputs": [],
   "source": [
    "# with tf.GradientTape() as tape:\n",
    "#     error = model(tf.cast(im.reshape(1, *im.shape, 1), tf.float32)) - 0 # NOT model.predict(x) - y\n",
    "#     loss_value = tf.reduce_mean(tf.square(error))\n",
    "# gradients = tape.gradient(loss_value, model.variables)"
   ]
  },
  {
   "cell_type": "code",
   "execution_count": 693,
   "metadata": {},
   "outputs": [],
   "source": [
    "# with tf.GradientTape() as g:\n",
    "#     error = model(tf.cast(im.reshape(1, *im.shape, 1), tf.float32)) # NOT model.predict(x) - y\n",
    "#     feature_maps = get_outputs_at_each_layer(model, tf.cast(im.reshape(1, *im.shape, 1), tf.float32), 'conv')\n",
    "    \n",
    "# dy_dA_k = g.gradient(loss_value, A_k)"
   ]
  },
  {
   "cell_type": "code",
   "execution_count": 694,
   "metadata": {},
   "outputs": [
    {
     "name": "stdout",
     "output_type": "stream",
     "text": [
      "(1, 14, 14, 64)\n"
     ]
    }
   ],
   "source": [
    "print(dy_dA_k[0].shape)"
   ]
  },
  {
   "cell_type": "markdown",
   "metadata": {},
   "source": [
    "# Grad-CAM"
   ]
  },
  {
   "cell_type": "markdown",
   "metadata": {},
   "source": [
    "Having the derivative of loss function with respect to each conv kernel, we can now try to implement Grad-CAM from scratch"
   ]
  },
  {
   "cell_type": "markdown",
   "metadata": {},
   "source": [
    "**The process is as follows**:\n",
    "\n",
    "1. Compute gradient of scores for class `c` with respect to collected feature maps of a convolutional layer.\n",
    "    \n",
    "    $\\large \\frac{(\\delta y^c)}{(\\delta A^k)}$\n",
    "    \n",
    "2. Run Global Average Pooling on that gradient to obtain importance weights of each feature map.\n",
    "\n",
    "    $\\large \\alpha^c_k = \\frac{1}{Z} \\Sigma_{i} \\Sigma_{j} \\frac{(\\delta y^c)}{(\\delta A^k)}$\n",
    "    \n",
    "3. Compute Grad-CAM $L^c$ function\n",
    "\n",
    "    $\\large L^c = ReLU(\\Sigma_{k} \\alpha^c_k A^k)$\n",
    "    \n",
    "    Here we use the ReLU to look only at pixels whose value actually contribute to the increase of $y^c$ scores\n",
    "    \n",
    "4. We upsample $L^c$ using bilinear interpolation method...\n",
    "\n",
    "5. ... and finally perform pixel-wise multiplication with the guided backpropagation results."
   ]
  },
  {
   "cell_type": "code",
   "execution_count": 695,
   "metadata": {},
   "outputs": [
    {
     "data": {
      "text/plain": [
       "(2, 1)"
      ]
     },
     "execution_count": 695,
     "metadata": {},
     "output_type": "execute_result"
    }
   ],
   "source": [
    "gap = [tf.keras.layers.GlobalAveragePooling2D()(i) for i in dy_dA_k]\n",
    "np.array(gap).shape  # thus each alpha_k is an element of the 'gap' list"
   ]
  },
  {
   "cell_type": "code",
   "execution_count": 696,
   "metadata": {},
   "outputs": [
    {
     "name": "stdout",
     "output_type": "stream",
     "text": [
      "(1, 14, 14, 64)\n"
     ]
    }
   ],
   "source": [
    "print(dy_dA_k[0].shape)\n",
    "# print(dy_dA_k[1].shape)"
   ]
  },
  {
   "cell_type": "markdown",
   "metadata": {},
   "source": [
    "So we have two gradient tensors, first corresponding to the first layer which had `3x3` kernel size and the second corresponding to the `1x1` kernel. The last dimension is the actual number of feature maps within the tensor."
   ]
  },
  {
   "cell_type": "code",
   "execution_count": 697,
   "metadata": {},
   "outputs": [
    {
     "name": "stdout",
     "output_type": "stream",
     "text": [
      "(1, 14, 14, 64)\n"
     ]
    }
   ],
   "source": [
    "print(A_k[0].shape)\n",
    "# print(A_k[1].shape)"
   ]
  },
  {
   "cell_type": "markdown",
   "metadata": {},
   "source": [
    "Shapes of the A_k elements are the same."
   ]
  },
  {
   "cell_type": "code",
   "execution_count": 698,
   "metadata": {},
   "outputs": [
    {
     "data": {
      "text/plain": [
       "TensorShape([1, 14, 14, 64])"
      ]
     },
     "execution_count": 698,
     "metadata": {},
     "output_type": "execute_result"
    }
   ],
   "source": [
    "tf.math.multiply(dy_dA_k[0], A_k[0]).shape"
   ]
  },
  {
   "cell_type": "code",
   "execution_count": 699,
   "metadata": {},
   "outputs": [],
   "source": [
    "L_c_0 = tf.keras.layers.ReLU()(tf.math.reduce_sum(tf.math.multiply(dy_dA_k[0], A_k[0]), axis=3))"
   ]
  },
  {
   "cell_type": "code",
   "execution_count": 700,
   "metadata": {},
   "outputs": [
    {
     "data": {
      "text/plain": [
       "TensorShape([1, 14, 14])"
      ]
     },
     "execution_count": 700,
     "metadata": {},
     "output_type": "execute_result"
    }
   ],
   "source": [
    "L_c_0.shape"
   ]
  },
  {
   "cell_type": "code",
   "execution_count": 701,
   "metadata": {},
   "outputs": [
    {
     "data": {
      "text/plain": [
       "<matplotlib.image.AxesImage at 0x149663a20>"
      ]
     },
     "execution_count": 701,
     "metadata": {},
     "output_type": "execute_result"
    },
    {
     "data": {
      "image/png": "[encoded data removed]",
      "text/plain": [
       "<Figure size 432x288 with 1 Axes>"
      ]
     },
     "metadata": {
      "needs_background": "light"
     },
     "output_type": "display_data"
    }
   ],
   "source": [
    "plt.imshow(L_c_0[0, :, :], cmap='gray')"
   ]
  },
  {
   "cell_type": "code",
   "execution_count": 702,
   "metadata": {},
   "outputs": [],
   "source": [
    "# def unpack_maps(A_k, layer_idx):\n",
    "#     new_shape = list(A_k[layer_idx].shape)\n",
    "#     new_shape = [new_shape[-1]] + new_shape[:-1]\n",
    "#     yield tf.reshape(A_k[layer_idx], new_shape).numpy()"
   ]
  },
  {
   "cell_type": "code",
   "execution_count": 703,
   "metadata": {},
   "outputs": [],
   "source": [
    "# plt.imshow(test[1, 1, :, :], cmap='gray')"
   ]
  },
  {
   "cell_type": "markdown",
   "metadata": {},
   "source": [
    "#### We pick one of three saliency maps and scale it down to original image size"
   ]
  },
  {
   "cell_type": "code",
   "execution_count": 704,
   "metadata": {},
   "outputs": [],
   "source": [
    "test = L_c_0.numpy()"
   ]
  },
  {
   "cell_type": "code",
   "execution_count": 705,
   "metadata": {},
   "outputs": [
    {
     "data": {
      "text/plain": [
       "(1, 14, 14)"
      ]
     },
     "execution_count": 705,
     "metadata": {},
     "output_type": "execute_result"
    }
   ],
   "source": [
    "test.shape"
   ]
  },
  {
   "cell_type": "code",
   "execution_count": 706,
   "metadata": {},
   "outputs": [],
   "source": [
    "def upsample_array(arr, final_shape):\n",
    "    integer_div= []\n",
    "    modulo = []\n",
    "    out = np.copy(arr)\n",
    "    assert len(final_shape) == len(arr.shape), \"Output shape has to have same number of dims!\"\n",
    "    for i in range(len(arr.shape)):\n",
    "        integer_div.append(final_shape[i]//arr.shape[i])\n",
    "        modulo.append(final_shape[i]%arr.shape[i])\n",
    "    if len(modulo) != 0:\n",
    "        integer_div = [i+1 for i in integer_div]\n",
    "    for idx, i in enumerate(integer_div):\n",
    "        out = out.repeat(i, axis=idx)\n",
    "    if out.shape != final_shape:\n",
    "        start = [None for i in range(len(final_shape))]\n",
    "        end = final_shape\n",
    "        zipped = tuple(zip(start, final_shape))\n",
    "        slices = tuple([slice(i[0], i[1]) for i in zipped])\n",
    "        out = out[slices]\n",
    "    return out"
   ]
  },
  {
   "cell_type": "code",
   "execution_count": 707,
   "metadata": {},
   "outputs": [
    {
     "data": {
      "text/plain": [
       "(16, 16)"
      ]
     },
     "execution_count": 707,
     "metadata": {},
     "output_type": "execute_result"
    }
   ],
   "source": [
    "upsample_array(test[0, :, :], (16, 16)).shape"
   ]
  },
  {
   "cell_type": "code",
   "execution_count": 708,
   "metadata": {},
   "outputs": [
    {
     "data": {
      "text/plain": [
       "(1, 14, 14)"
      ]
     },
     "execution_count": 708,
     "metadata": {},
     "output_type": "execute_result"
    }
   ],
   "source": [
    "test.shape"
   ]
  },
  {
   "cell_type": "code",
   "execution_count": 709,
   "metadata": {},
   "outputs": [
    {
     "data": {
      "text/plain": [
       "(16, 16)"
      ]
     },
     "execution_count": 709,
     "metadata": {},
     "output_type": "execute_result"
    }
   ],
   "source": [
    "test_test = upsample_array(test[0, :, :], (16, 16))\n",
    "test_test = Image.fromarray(test_test)\n",
    "np.array(test_test).shape"
   ]
  },
  {
   "cell_type": "code",
   "execution_count": 710,
   "metadata": {},
   "outputs": [
    {
     "data": {
      "text/plain": [
       "<matplotlib.image.AxesImage at 0x1494dc9e8>"
      ]
     },
     "execution_count": 710,
     "metadata": {},
     "output_type": "execute_result"
    },
    {
     "data": {
      "image/png": "[encoded data removed]",
      "text/plain": [
       "<Figure size 432x288 with 1 Axes>"
      ]
     },
     "metadata": {
      "needs_background": "light"
     },
     "output_type": "display_data"
    }
   ],
   "source": [
    "plt.imshow(test_test, cmap='gray')"
   ]
  },
  {
   "cell_type": "code",
   "execution_count": 711,
   "metadata": {},
   "outputs": [
    {
     "data": {
      "text/plain": [
       "<matplotlib.image.AxesImage at 0x149554e80>"
      ]
     },
     "execution_count": 711,
     "metadata": {},
     "output_type": "execute_result"
    },
    {
     "data": {
      "image/png": "[encoded data removed]",
      "text/plain": [
       "<Figure size 432x288 with 1 Axes>"
      ]
     },
     "metadata": {
      "needs_background": "light"
     },
     "output_type": "display_data"
    }
   ],
   "source": [
    "plt.imshow(im*test_test, cmap='gray')"
   ]
  },
  {
   "cell_type": "markdown",
   "metadata": {},
   "source": [
    "#### Now we can make a heatmap of features that have been detected"
   ]
  },
  {
   "cell_type": "code",
   "execution_count": 712,
   "metadata": {},
   "outputs": [
    {
     "data": {
      "image/png": "[encoded data removed]",
      "text/plain": [
       "<Figure size 432x288 with 1 Axes>"
      ]
     },
     "metadata": {
      "needs_background": "light"
     },
     "output_type": "display_data"
    }
   ],
   "source": [
    "plt_im1 = plt.imshow(im, cmap=plt.cm.gray, interpolation='nearest')\n",
    "\n",
    "plt_im2 = plt.imshow(test_test*im, cmap=plt.cm.hot, alpha=.9, interpolation='bilinear')\n",
    "\n",
    "plt.show()"
   ]
  },
  {
   "cell_type": "code",
   "execution_count": null,
   "metadata": {},
   "outputs": [],
   "source": []
  }
 ],
 "metadata": {
  "kernelspec": {
   "display_name": "Python 3",
   "language": "python",
   "name": "python3"
  },
  "language_info": {
   "codemirror_mode": {
    "name": "ipython",
    "version": 3
   },
   "file_extension": ".py",
   "mimetype": "text/x-python",
   "name": "python",
   "nbconvert_exporter": "python",
   "pygments_lexer": "ipython3",
   "version": "3.7.3"
  }
 },
 "nbformat": 4,
 "nbformat_minor": 2
}
